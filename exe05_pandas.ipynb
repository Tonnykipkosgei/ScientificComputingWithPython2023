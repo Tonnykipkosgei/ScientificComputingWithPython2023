{
 "cells": [
  {
   "cell_type": "code",
   "execution_count": 1,
   "id": "e5b3b717-5e2d-4b0c-8949-655197b19edc",
   "metadata": {
    "tags": []
   },
   "outputs": [
    {
     "name": "stdout",
     "output_type": "stream",
     "text": [
      "   HEAD  FPGA  TDC_CHANNEL   ORBIT_CNT  BX_COUNTER  TDC_MEAS\n",
      "0     1     0          123  3869200167        2374        26\n",
      "1     1     0          124  3869200167        2374        27\n",
      "2     1     0           63  3869200167        2553        28\n",
      "3     1     0           64  3869200167        2558        19\n",
      "4     1     0           64  3869200167        2760        25\n",
      "(25000, 6)\n"
     ]
    }
   ],
   "source": [
    "###05EX_PANDAS\n",
    "\n",
    "#question 1\n",
    "\n",
    "import pandas as pd\n",
    "df = pd.read_csv('data/data_000637.txt',nrows=25000)\n",
    "print(df.head()) \n",
    "print(df.shape)"
   ]
  },
  {
   "cell_type": "code",
   "execution_count": 2,
   "id": "00d95dd3-8213-4c29-8d0f-1ba20d9e4140",
   "metadata": {
    "tags": []
   },
   "outputs": [
    {
     "name": "stdout",
     "output_type": "stream",
     "text": [
      "3563\n"
     ]
    }
   ],
   "source": [
    "###question 2\n",
    "\n",
    "import pandas as pd\n",
    "df = pd.read_csv('data/data_000637.txt')\n",
    "est_df= df[\"BX_COUNTER\"]\n",
    "est_bx = max(est_df)\n",
    "print( est_bx)\n"
   ]
  },
  {
   "cell_type": "code",
   "execution_count": 3,
   "id": "3a12502d-5a4b-49f5-81ea-85e45b925d4b",
   "metadata": {
    "tags": []
   },
   "outputs": [
    {
     "name": "stdout",
     "output_type": "stream",
     "text": [
      "       HEAD  FPGA  TDC_CHANNEL   ORBIT_CNT  BX_COUNTER  TDC_MEAS  \\\n",
      "0         1     0          123  3869200167        2374        26   \n",
      "1         1     0          124  3869200167        2374        27   \n",
      "2         1     0           63  3869200167        2553        28   \n",
      "3         1     0           64  3869200167        2558        19   \n",
      "4         1     0           64  3869200167        2760        25   \n",
      "...     ...   ...          ...         ...         ...       ...   \n",
      "24995     1     0           72  3869200416        1932        14   \n",
      "24996     1     0           54  3869200416        1932        28   \n",
      "24997     1     1           64  3869200416        2018        20   \n",
      "24998     1     1            6  3869200416        2098         4   \n",
      "24999     1     1            3  3869200416        2101         6   \n",
      "\n",
      "       abs_time_in_ns  \n",
      "0        3.446490e+14  \n",
      "1        3.446490e+14  \n",
      "2        3.446490e+14  \n",
      "3        3.446490e+14  \n",
      "4        3.446490e+14  \n",
      "...               ...  \n",
      "24995    3.446490e+14  \n",
      "24996    3.446490e+14  \n",
      "24997    3.446490e+14  \n",
      "24998    3.446490e+14  \n",
      "24999    3.446490e+14  \n",
      "\n",
      "[25000 rows x 7 columns]\n"
     ]
    }
   ],
   "source": [
    "###question 3\n",
    "\n",
    "import pandas as pd\n",
    "df = pd.read_csv('data/data_000637.txt',nrows=25000)\n",
    "x = df[\"BX_COUNTER\"]\n",
    "est_x = max(x)\n",
    "df[\"abs_time_in_ns\"] = df['TDC_MEAS'].transform(lambda x: x * 25/30) + df['BX_COUNTER'].transform(lambda x: x * 25) +df['ORBIT_CNT'].transform(lambda x: x * est_bx * 25)\n",
    "print(df)"
   ]
  },
  {
   "cell_type": "code",
   "execution_count": 4,
   "id": "78b0d879-4819-44f7-8723-205594acd629",
   "metadata": {
    "tags": []
   },
   "outputs": [
    {
     "name": "stdout",
     "output_type": "stream",
     "text": [
      "2023-12-12 15:48:39.239881\n",
      "2023-12-12 15:48:39.244390\n",
      "0:00:00.004509\n"
     ]
    }
   ],
   "source": [
    "###question 4\n",
    "import datetime as dt\n",
    "import pandas as pd\n",
    "x = df[\"BX_COUNTER\"]\n",
    "est_x = max(x)\n",
    "df = pd.read_csv('data/data_000637.txt',nrows=25000)\n",
    "begin_time = dt.datetime.now()\n",
    "print(begin_time)\n",
    "time = df['TDC_MEAS'] *(25/30) + df['BX_COUNTER'] * 25 + df['ORBIT_CNT']*est_x*25\n",
    "end_time = dt.datetime.now()\n",
    "print(end_time)\n",
    "print((end_time - begin_time))\n"
   ]
  },
  {
   "cell_type": "code",
   "execution_count": 5,
   "id": "5f20750b-0640-4ddb-8b31-558ab526d1bd",
   "metadata": {
    "tags": []
   },
   "outputs": [
    {
     "name": "stdout",
     "output_type": "stream",
     "text": [
      "             HEAD  FPGA      ORBIT_CNT  BX_COUNTER  TDC_MEAS\n",
      "TDC_CHANNEL                                                 \n",
      "63           1220    13  4720424355236     2194819     18114\n",
      "64           1261    29  4879061570586     2306691     18224\n",
      "139          2102   634  8133059010628     3732404         0\n"
     ]
    }
   ],
   "source": [
    "###question 5\n",
    "import numpy as np\n",
    "import pandas as pd\n",
    "df = pd.read_csv('data/data_000637.txt',nrows=25000)\n",
    "y=  df.groupby('TDC_CHANNEL').sum().sort_values(by = ['HEAD']).iloc[-3:]\n",
    "print(y)"
   ]
  },
  {
   "cell_type": "code",
   "execution_count": 6,
   "id": "dc11892c-af4e-440e-88cd-fcdf39c75faf",
   "metadata": {
    "tags": []
   },
   "outputs": [
    {
     "name": "stdout",
     "output_type": "stream",
     "text": [
      "250\n"
     ]
    }
   ],
   "source": [
    "###question 6\n",
    "\n",
    "import numpy as np\n",
    "import pandas as pd\n",
    "df = pd.read_csv('data/data_000637.txt',nrows=25000)\n",
    "count_num = df.ORBIT_CNT.unique().size\n",
    "print(str(count_num))"
   ]
  },
  {
   "cell_type": "code",
   "execution_count": 7,
   "id": "a63f3485-da18-4a9f-a455-15da1d28ab8d",
   "metadata": {
    "tags": []
   },
   "outputs": [
    {
     "name": "stdout",
     "output_type": "stream",
     "text": [
      "250\n"
     ]
    }
   ],
   "source": [
    "###question 7\n",
    "import numpy as np\n",
    "import pandas as pd\n",
    "df = pd.read_csv('data/data_000637.txt',nrows=25000)\n",
    "unique_orbits = pd.DataFrame(df[df['TDC_CHANNEL'] == 139]).drop_duplicates(subset=['ORBIT_CNT'], inplace=False)\n",
    "print(len(unique_orbits))"
   ]
  },
  {
   "cell_type": "code",
   "execution_count": 8,
   "id": "ca5231af-ea5e-4dcf-a9f9-07688f09d6d8",
   "metadata": {
    "tags": []
   },
   "outputs": [
    {
     "name": "stdout",
     "output_type": "stream",
     "text": [
      "TDC_CHANNEL\n",
      "139    75617\n",
      "64     64581\n",
      "63     63724\n",
      "61     48699\n",
      "62     48275\n",
      "       ...  \n",
      "130       33\n",
      "137       32\n",
      "30         4\n",
      "129        2\n",
      "39         1\n",
      "Name: count, Length: 124, dtype: int64\n",
      "TDC_CHANNEL\n",
      "2      32669\n",
      "139    32442\n",
      "1      28438\n",
      "4      26403\n",
      "3      21970\n",
      "       ...  \n",
      "9         80\n",
      "130       38\n",
      "138       36\n",
      "137       36\n",
      "129       35\n",
      "Name: count, Length: 132, dtype: int64\n"
     ]
    }
   ],
   "source": [
    "##q8\n",
    "import numpy as np\n",
    "import pandas as pd\n",
    "data = pd.read_csv('data/data_000637.txt')\n",
    "FPGA_0 = pd.Series(data[data['FPGA'] == 0]['TDC_CHANNEL'].value_counts())\n",
    "FPGA_1 = pd.Series(data[data['FPGA'] == 1]['TDC_CHANNEL'].value_counts())\n",
    "print(FPGA_0)\n",
    "print(FPGA_1)"
   ]
  },
  {
   "cell_type": "code",
   "execution_count": 9,
   "id": "215f714f-b418-4107-9501-28f53c82c58a",
   "metadata": {
    "tags": []
   },
   "outputs": [
    {
     "data": {
      "image/png": "[encoded data removed]",
      "text/plain": [
       "<Figure size 640x480 with 1 Axes>"
      ]
     },
     "metadata": {},
     "output_type": "display_data"
    },
    {
     "data": {
      "image/png": "[encoded data removed]",
      "text/plain": [
       "<Figure size 640x480 with 1 Axes>"
      ]
     },
     "metadata": {},
     "output_type": "display_data"
    }
   ],
   "source": [
    "##9\n",
    "import numpy as np\n",
    "import pandas as pd\n",
    "import matplotlib.pyplot as plt\n",
    "import csv \n",
    "data = pd.read_csv('data/data_000637.txt')\n",
    "FPGA_0 = pd.Series(data[data['FPGA'] == 0]['TDC_CHANNEL'].value_counts())\n",
    "FPGA_1 = pd.Series(data[data['FPGA'] == 1]['TDC_CHANNEL'].value_counts())\n",
    "plt.hist(FPGA_0)\n",
    "plt.title('FPGA == 0')\n",
    "plt.xlabel('TDC_CHANNEL')\n",
    "plt.ylabel('number of counts')\n",
    "plt.show()\n",
    "plt.hist(FPGA_1)\n",
    "plt.title('FPGA == 1')\n",
    "plt.xlabel('TDC_CHANNEL')\n",
    "plt.ylabel('number of counts')\n",
    "plt.show()\n"
   ]
  },
  {
   "cell_type": "code",
   "execution_count": null,
   "id": "8d57d6d5-f848-4415-90f7-be0ea337e65e",
   "metadata": {},
   "outputs": [],
   "source": []
  }
 ],
 "metadata": {
  "kernelspec": {
   "display_name": "Python 3 (ipykernel)",
   "language": "python",
   "name": "python3"
  },
  "language_info": {
   "codemirror_mode": {
    "name": "ipython",
    "version": 3
   },
   "file_extension": ".py",
   "mimetype": "text/x-python",
   "name": "python",
   "nbconvert_exporter": "python",
   "pygments_lexer": "ipython3",
   "version": "3.11.5"
  }
 },
 "nbformat": 4,
 "nbformat_minor": 5
}
