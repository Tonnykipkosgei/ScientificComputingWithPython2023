{
 "cells": [
  {
   "cell_type": "code",
   "execution_count": 1,
   "id": "84b2660e-931e-45d3-aa2e-ebc157cdfae2",
   "metadata": {
    "tags": []
   },
   "outputs": [
    {
     "name": "stdout",
     "output_type": "stream",
     "text": [
      "[[ 0  1  2  3]\n",
      " [ 4  5  6  7]\n",
      " [ 8  9 10 11]]\n",
      "The total mean is :  5.5\n",
      "The rows mean is :  [1.5 5.5 9.5]\n",
      "The column mean is :  [4. 5. 6. 7.]\n"
     ]
    }
   ],
   "source": [
    "#q1\n",
    "import numpy as np\n",
    "m = np.arange(12).reshape((3,4))\n",
    "print(m)\n",
    "\n",
    "total_mean =np.mean(m)\n",
    "\n",
    "rows_mean=np.mean(m, axis=1)\n",
    "cols_mean=np.mean(m, axis=0)\n",
    "\n",
    "\n",
    "print(f'The total mean is :  {total_mean}')\n",
    "print(f'The rows mean is :  {rows_mean}')\n",
    "print(f'The column mean is :  {cols_mean}')\n"
   ]
  },
  {
   "cell_type": "code",
   "execution_count": 2,
   "id": "8fae542a-09d4-48fe-96e0-824c8e47dc77",
   "metadata": {
    "tags": []
   },
   "outputs": [
    {
     "name": "stdout",
     "output_type": "stream",
     "text": [
      "[[ 2  4  6  8]\n",
      " [ 6 12 18 24]\n",
      " [10 20 30 40]\n",
      " [14 28 42 56]]\n",
      "[[2, 4, 6, 8], [6, 12, 18, 24], [10, 20, 30, 40], [14, 28, 42, 56]]\n",
      "[ 2 12 30 56]\n"
     ]
    }
   ],
   "source": [
    "#q2\n",
    "import numpy as np\n",
    "u = np.array([1, 3, 5, 7])\n",
    "v = np.array([2, 4, 6, 8])\n",
    "\n",
    "outer_=np.outer(u,v)\n",
    "\n",
    "print(outer_)\n",
    "\n",
    "#using list comprehension\n",
    "u = np.array([1, 3, 5, 7])\n",
    "v = np.array([2, 4, 6, 8])\n",
    "outer=[[i*j for j in v] for i in u]\n",
    "\n",
    "print (outer)\n",
    "\n",
    "##broadcasting\n",
    "u = np.array([1, 3, 5, 7])\n",
    "v = np.array([2, 4, 6, 8])\n",
    "import numpy as np\n",
    "outer__=u*v\n",
    "print(outer__)\n"
   ]
  },
  {
   "cell_type": "code",
   "execution_count": 3,
   "id": "f2463346-4ffd-4935-90d9-9b0526267bc3",
   "metadata": {
    "tags": []
   },
   "outputs": [
    {
     "name": "stdout",
     "output_type": "stream",
     "text": [
      "[[2.84953927 1.68957786 0.         0.68823971 1.27384346 0.        ]\n",
      " [2.48653506 0.89833565 2.80652206 1.14647034 1.57535668 2.61716613]\n",
      " [0.7105684  0.         2.20299261 0.         1.06731209 2.7665391 ]\n",
      " [1.90176318 1.10429259 1.50149259 1.00596453 0.59697155 1.82369247]\n",
      " [1.1247933  0.         0.96948308 0.96714997 1.82834392 2.27939749]\n",
      " [2.13780941 2.19285974 2.70565077 0.61522953 2.5623366  0.36138893]\n",
      " [0.68013789 0.44599904 1.20715594 1.59634216 0.85315616 2.31614584]\n",
      " [2.90806219 1.34193394 1.32123177 2.08015294 2.18763493 1.10383005]\n",
      " [0.54318101 2.38330364 0.37493988 1.95358062 0.49411442 2.54011605]\n",
      " [2.43078934 2.98978484 0.33974895 1.68300277 2.72515191 2.69072402]]\n"
     ]
    }
   ],
   "source": [
    "#q3\n",
    "import numpy as np\n",
    "# initializing 10x6 matrix of random numbers between 0 and 3\n",
    "mat = np.random.uniform(low=0.0, high=3.0, size=(10, 6))\n",
    "# Create a mask for values less than 0.3\n",
    "mask = mat < 0.3\n",
    "# Apply the mask to set values less than 0.3 to zero\n",
    "mat[mask] = 0\n",
    "print(mat)\n"
   ]
  },
  {
   "cell_type": "code",
   "execution_count": 4,
   "id": "a8afe559-333b-4610-8471-2d646551b114",
   "metadata": {
    "tags": []
   },
   "outputs": [
    {
     "name": "stdout",
     "output_type": "stream",
     "text": [
      "[ 0.00000000e+00  6.34239197e-02  1.26592454e-01  1.89251244e-01\n",
      "  2.51147987e-01  3.12033446e-01  3.71662456e-01  4.29794912e-01\n",
      "  4.86196736e-01  5.40640817e-01  5.92907929e-01  6.42787610e-01\n",
      "  6.90079011e-01  7.34591709e-01  7.76146464e-01  8.14575952e-01\n",
      "  8.49725430e-01  8.81453363e-01  9.09631995e-01  9.34147860e-01\n",
      "  9.54902241e-01  9.71811568e-01  9.84807753e-01  9.93838464e-01\n",
      "  9.98867339e-01  9.99874128e-01  9.96854776e-01  9.89821442e-01\n",
      "  9.78802446e-01  9.63842159e-01  9.45000819e-01  9.22354294e-01\n",
      "  8.95993774e-01  8.66025404e-01  8.32569855e-01  7.95761841e-01\n",
      "  7.55749574e-01  7.12694171e-01  6.66769001e-01  6.18158986e-01\n",
      "  5.67059864e-01  5.13677392e-01  4.58226522e-01  4.00930535e-01\n",
      "  3.42020143e-01  2.81732557e-01  2.20310533e-01  1.58001396e-01\n",
      "  9.50560433e-02  3.17279335e-02 -3.17279335e-02 -9.50560433e-02\n",
      " -1.58001396e-01 -2.20310533e-01 -2.81732557e-01 -3.42020143e-01\n",
      " -4.00930535e-01 -4.58226522e-01 -5.13677392e-01 -5.67059864e-01\n",
      " -6.18158986e-01 -6.66769001e-01 -7.12694171e-01 -7.55749574e-01\n",
      " -7.95761841e-01 -8.32569855e-01 -8.66025404e-01 -8.95993774e-01\n",
      " -9.22354294e-01 -9.45000819e-01 -9.63842159e-01 -9.78802446e-01\n",
      " -9.89821442e-01 -9.96854776e-01 -9.99874128e-01 -9.98867339e-01\n",
      " -9.93838464e-01 -9.84807753e-01 -9.71811568e-01 -9.54902241e-01\n",
      " -9.34147860e-01 -9.09631995e-01 -8.81453363e-01 -8.49725430e-01\n",
      " -8.14575952e-01 -7.76146464e-01 -7.34591709e-01 -6.90079011e-01\n",
      " -6.42787610e-01 -5.92907929e-01 -5.40640817e-01 -4.86196736e-01\n",
      " -4.29794912e-01 -3.71662456e-01 -3.12033446e-01 -2.51147987e-01\n",
      " -1.89251244e-01 -1.26592454e-01 -6.34239197e-02 -2.44929360e-16]\n"
     ]
    }
   ],
   "source": [
    "###q4\n",
    "\n",
    "import numpy as np\n",
    "arr = np.linspace(0, 2 * np.pi, 100)\n",
    "Tenth = arr[::10]\n",
    "reversed_arr = arr[::-1]\n",
    "sin_values = np.sin(arr)\n",
    "cos_values = np.cos(arr)\n",
    "# Extract elements where the absolute difference between sin and cos is < 0.1\n",
    "close_values_indices = np.where(np.abs(sin_values - cos_values) < 0.1)\n",
    "close_values = arr[close_values_indices]\n",
    "\n",
    "print(sin_values)\n"
   ]
  },
  {
   "cell_type": "code",
   "execution_count": 5,
   "id": "3177cfa4-f219-462e-9570-8f079e5cb1bf",
   "metadata": {
    "tags": []
   },
   "outputs": [
    {
     "name": "stdout",
     "output_type": "stream",
     "text": [
      "Matrix:\n",
      "[[  1   2   3   4   5   6   7   8   9  10]\n",
      " [  2   4   6   8  10  12  14  16  18  20]\n",
      " [  3   6   9  12  15  18  21  24  27  30]\n",
      " [  4   8  12  16  20  24  28  32  36  40]\n",
      " [  5  10  15  20  25  30  35  40  45  50]\n",
      " [  6  12  18  24  30  36  42  48  54  60]\n",
      " [  7  14  21  28  35  42  49  56  63  70]\n",
      " [  8  16  24  32  40  48  56  64  72  80]\n",
      " [  9  18  27  36  45  54  63  72  81  90]\n",
      " [ 10  20  30  40  50  60  70  80  90 100]]\n",
      "\n",
      "Trace of the matrix: 385\n",
      "\n",
      "Anti-diagonal matrix: [10 18 24 28 30 30 28 24 18 10]\n",
      "\n",
      "Diagonal offset by 1 upwards: [ 2  6 12 20 30 42 56 72 90]\n"
     ]
    }
   ],
   "source": [
    "#q5\n",
    "import numpy as np\n",
    "\n",
    "# Create 10x10 multiplication table\n",
    "matrix = np.arange(1, 11)[:, None] * np.arange(1, 11)\n",
    "# Find the trace of the matrix\n",
    "tr = np.trace(matrix)\n",
    "#Anti-diagonal matrix\n",
    "anti_diagonal = np.diagonal(np.flip(matrix, axis=1))\n",
    "#Diagonal offset by 1 upwards\n",
    "offset_diagonal = np.diagonal(matrix, offset=1)\n",
    "print(\"Matrix:\")\n",
    "print(matrix)\n",
    "print(\"\\nTrace of the matrix:\", tr)\n",
    "print(\"\\nAnti-diagonal matrix:\", anti_diagonal)\n",
    "print(\"\\nDiagonal offset by 1 upwards:\", offset_diagonal)\n"
   ]
  },
  {
   "cell_type": "code",
   "execution_count": 6,
   "id": "3de44606-a448-41b0-bc50-4a8346f4de96",
   "metadata": {
    "tags": []
   },
   "outputs": [
    {
     "name": "stdout",
     "output_type": "stream",
     "text": [
      "2D grid of distances in kilometers:\n",
      "[[   0.       318.64932  487.63002 1184.47424 1401.73514 1890.9745\n",
      "  2373.7765  2484.82096 3078.66742 3939.66432]\n",
      " [ 318.64932    0.       168.9807   865.82492 1083.08582 1572.32518\n",
      "  2055.12718 2166.17164 2760.0181  3621.015  ]\n",
      " [ 487.63002  168.9807     0.       696.84422  914.10512 1403.34448\n",
      "  1886.14648 1997.19094 2591.0374  3452.0343 ]\n",
      " [1184.47424  865.82492  696.84422    0.       217.2609   706.50026\n",
      "  1189.30226 1300.34672 1894.19318 2755.19008]\n",
      " [1401.73514 1083.08582  914.10512  217.2609     0.       489.23936\n",
      "   972.04136 1083.08582 1676.93228 2537.92918]\n",
      " [1890.9745  1572.32518 1403.34448  706.50026  489.23936    0.\n",
      "   482.802    593.84646 1187.69292 2048.68982]\n",
      " [2373.7765  2055.12718 1886.14648 1189.30226  972.04136  482.802\n",
      "     0.       111.04446  704.89092 1565.88782]\n",
      " [2484.82096 2166.17164 1997.19094 1300.34672 1083.08582  593.84646\n",
      "   111.04446    0.       593.84646 1454.84336]\n",
      " [3078.66742 2760.0181  2591.0374  1894.19318 1676.93228 1187.69292\n",
      "   704.89092  593.84646    0.       860.9969 ]\n",
      " [3939.66432 3621.015   3452.0343  2755.19008 2537.92918 2048.68982\n",
      "  1565.88782 1454.84336  860.9969     0.     ]]\n"
     ]
    }
   ],
   "source": [
    "#q6\n",
    "import numpy as np\n",
    "# Positions of cities along Route 66 in miles\n",
    "location_miles = np.array([0, 198, 303, 736, 871, 1175, 1475, 1544, 1913, 2448])\n",
    "# Calculate the differences to get the distances between cities\n",
    "distances_miles = np.abs(location_miles[:, np.newaxis] - location_miles)\n",
    "# 1 mile = 1.60934 kilometers\n",
    "conversion_factor = 1.60934  \n",
    "# Convert distances from miles to kilometers using broadcasting\n",
    "distances_km = distances_miles * conversion_factor\n",
    "\n",
    "# Display the 2D grid of distances in kilometers\n",
    "print(\"2D grid of distances in kilometers:\")\n",
    "print(distances_km)\n"
   ]
  },
  {
   "cell_type": "code",
   "execution_count": 6,
   "id": "d6512c14-97e5-4aca-9790-638105ba073c",
   "metadata": {
    "tags": []
   },
   "outputs": [
    {
     "name": "stdout",
     "output_type": "stream",
     "text": [
      "Prime numbers using basic sieve for N = 100000:\n",
      "[    2     3     5 ... 99971 99989 99991]\n",
      "\n",
      "Time taken for basic sieve with N = 100000: 0.002455378999002278 seconds\n"
     ]
    }
   ],
   "source": [
    "##q7\n",
    "import numpy as np\n",
    "import timeit\n",
    "\n",
    "def sieve_of_eratosthenes_basic(N):\n",
    "    # Create a boolean mask of shape (N,)\n",
    "    mask = np.ones(N, dtype=bool)\n",
    "    mask[:2] = False\n",
    "\n",
    "    for i in range(2, int(np.sqrt(N)) + 1):\n",
    "        if mask[i]:\n",
    "            mask[i * i:N:i] = False  \n",
    "\n",
    "    # Generate array of ordered prime numbers\n",
    "    primes = np.nonzero(mask)[0]\n",
    "    return primes\n",
    "\n",
    "# Define N value\n",
    "N = 100000\n",
    "\n",
    "# Measure the time taken to compute primes using the basic sieve\n",
    "time_basic = timeit.timeit(lambda: sieve_of_eratosthenes_basic(N), number=1)\n",
    "\n",
    "print(f\"Prime numbers using basic sieve for N = {N}:\")\n",
    "print(sieve_of_eratosthenes_basic(N))\n",
    "print(f\"\\nTime taken for basic sieve with N = {N}: {time_basic} seconds\")\n",
    "\n",
    "##for large value of N the execution time increases"
   ]
  },
  {
   "cell_type": "code",
   "execution_count": 9,
   "id": "c3a5535a-4aa7-4e67-8f10-f73a1d27a689",
   "metadata": {},
   "outputs": [
    {
     "name": "stdout",
     "output_type": "stream",
     "text": [
      "[  1.      2.028   2.848   3.86    4.936   5.744   6.344   7.36    8.472\n",
      "   9.668  10.2    11.412  12.36   13.288  14.472  15.2    16.488  17.608\n",
      "  18.672  20.16   21.248  22.172  23.224  23.964  25.328  26.916  27.816\n",
      "  29.368  30.144  31.992  32.792  33.244  34.568  35.28   35.56   36.748\n",
      "  38.376  40.052  41.248  41.612  43.672  45.46   46.52   47.852  49.344\n",
      "  50.736  52.056  53.564  53.752  54.584  55.648  56.328  57.68   59.208\n",
      "  60.536  61.188  62.464  62.812  63.88   64.376  65.304  66.084  66.24\n",
      "  67.492  68.712  70.776  71.672  72.632  74.304  74.956  75.72   76.712\n",
      "  78.064  79.348  80.472  81.132  82.368  82.892  82.888  83.804  84.888\n",
      "  85.252  86.296  87.66   87.88   88.744  88.768  88.82   90.408  90.876\n",
      "  92.288  93.96   94.784  96.076  96.68   96.916  98.976  99.724 100.152\n",
      " 100.616 101.416 102.256 103.016 104.252 105.088 105.956 105.928 105.868\n",
      " 107.64  109.56  109.656 111.576 112.544 113.148 114.136 114.616 116.096\n",
      " 116.488 116.168 117.52  118.072 118.956 119.624 119.612 120.608 121.5\n",
      " 121.648 121.924 122.328 123.62  124.224 126.096 128.04  127.916 129.76\n",
      " 129.48  130.152 131.368 131.576 132.304 132.992 133.628 134.608 134.184\n",
      " 134.288 135.8   137.248 139.056 140.6   140.744 141.448 141.844 142.528\n",
      " 143.404 144.784 147.852 148.592 148.352 149.624 151.136 151.44  151.748\n",
      " 153.568 154.864 154.296 156.112 157.144 157.736 159.048 160.156 159.264\n",
      " 160.044 161.712 161.84  163.92  164.216 164.056 165.256 166.64  168.452\n",
      " 169.944 172.524 173.776 173.588 173.12  173.748 174.048 174.664 176.312\n",
      " 176.684 179.728 180.684 181.768 183.112 184.848 185.96  187.08  188.304\n",
      " 190.808 190.964]\n",
      "[ 1.          1.42407865  1.68760185  1.96468827  2.22171105  2.39666435\n",
      "  2.51872984  2.71293199  2.91067003  3.10934077  3.19374388  3.37816518\n",
      "  3.51567917  3.64527091  3.8042082   3.89871774  4.06054184  4.19618875\n",
      "  4.32111097  4.48998886  4.60955529  4.70871532  4.81912855  4.89530387\n",
      "  5.03269312  5.18806322  5.2740876   5.41922504  5.49035518  5.6561471\n",
      "  5.72642995  5.76576101  5.87945576  5.93969696  5.96322061  6.06201287\n",
      "  6.19483656  6.32866495  6.42246059  6.45073639  6.6084794   6.74240313\n",
      "  6.82055716  6.917514    7.02452845  7.12292075  7.21498441  7.31874306\n",
      "  7.33157555  7.38809854  7.45975871  7.5051982   7.59473502  7.69467348\n",
      "  7.78048842  7.82227588  7.90341698  7.9254022   7.99249648  8.02346559\n",
      "  8.08108904  8.1292066   8.13879598  8.21535148  8.28927017  8.41284732\n",
      "  8.46593173  8.52244096  8.6199768   8.65771332  8.70172397  8.75853869\n",
      "  8.83538341  8.90774944  8.97061871  9.00733035  9.07568179  9.10450438\n",
      "  9.10428471  9.15445247  9.2134684   9.23320096  9.28956404  9.36269192\n",
      "  9.37443332  9.42040339  9.42167713  9.42443632  9.50831215  9.53289043\n",
      "  9.60666435  9.69329665  9.73570747  9.80183656  9.83259884  9.84459242\n",
      "  9.94866825  9.98619046 10.00759711 10.03075271 10.07055113 10.11217088\n",
      " 10.1496798  10.21038687 10.25124383 10.29349309 10.29213292 10.28921766\n",
      " 10.37496988 10.46709129 10.47167608 10.56295413 10.60867569 10.63710487\n",
      " 10.68344514 10.70588623 10.77478538 10.79296067 10.778126   10.84066419\n",
      " 10.86609405 10.90669519 10.93727571 10.93672712 10.98216736 11.02270384\n",
      " 11.02941522 11.04192012 11.06019891 11.11845313 11.14558208 11.22924753\n",
      " 11.31547613 11.30999558 11.39122469 11.37892789 11.40841794 11.46158802\n",
      " 11.47065822 11.50234759 11.53221575 11.55975778 11.60206878 11.58378177\n",
      " 11.58826993 11.65332571 11.71528916 11.79220081 11.85748709 11.86355765\n",
      " 11.89319133 11.90982787 11.93850912 11.97514092 12.03262232 12.15944078\n",
      " 12.18983183 12.17998358 12.23208895 12.29373824 12.30609605 12.31860382\n",
      " 12.39225565 12.44443651 12.4215941  12.49447878 12.53570899 12.55929934\n",
      " 12.61142339 12.65527558 12.61998415 12.65084977 12.71660332 12.72163512\n",
      " 12.80312462 12.81467908 12.80843472 12.8551935  12.90891165 12.97890596\n",
      " 13.03625713 13.13483917 13.18241253 13.17527988 13.15750736 13.18135046\n",
      " 13.19272527 13.21605085 13.2782529  13.29225338 13.40626719 13.44187487\n",
      " 13.48213633 13.53188826 13.59588173 13.63671515 13.67771911 13.72239046\n",
      " 13.8133269  13.81897247]\n"
     ]
    }
   ],
   "source": [
    "#q8\n",
    "import numpy as np\n",
    "import matplotlib.pyplot as plt\n",
    "# Number of walkers and steps\n",
    "walkers = 1000\n",
    "steps = 200\n",
    "# Generate a 2D array representing the random walk for each walker\n",
    "random_walks = np.random.choice([-1, 1], size=(walkers, steps))\n",
    "# Calculate the walking distances for each walker\n",
    "distances = np.cumsum(random_walks, axis=1)\n",
    "squared_distances = distances ** 2\n",
    "# Compute the mean of squared distances at each step\n",
    "mean_distances = np.mean(squared_distances, axis=0)\n",
    "# Calculating the square root of mean squared distances to get the typical distance\n",
    "typical_distances = np.sqrt(mean_distances)\n",
    "print(mean_distances)\n",
    "print(typical_distances)\n"
   ]
  },
  {
   "cell_type": "code",
   "execution_count": null,
   "id": "46db1ea6-405c-4ef7-978a-214f58dc2f19",
   "metadata": {},
   "outputs": [],
   "source": []
  }
 ],
 "metadata": {
  "kernelspec": {
   "display_name": "Python 3 (ipykernel)",
   "language": "python",
   "name": "python3"
  },
  "language_info": {
   "codemirror_mode": {
    "name": "ipython",
    "version": 3
   },
   "file_extension": ".py",
   "mimetype": "text/x-python",
   "name": "python",
   "nbconvert_exporter": "python",
   "pygments_lexer": "ipython3",
   "version": "3.11.5"
  }
 },
 "nbformat": 4,
 "nbformat_minor": 5
}
