{
 "cells": [
  {
   "cell_type": "markdown",
   "metadata": {},
   "source": [
    "You can solve these exercises in the room or at home. For this week, and the next 3 weeks, exercises have to be solved by creating a single dedicated `.py` file called `01ex_introduction.py`.\n",
    "\n",
    "You can divide the individual exercises in the source code with appropriate comments (`#`).\n",
    "\n",
    "The exercises need to run without errors with `python3 01ex_introduction.py`."
   ]
  },
  {
   "cell_type": "markdown",
   "metadata": {},
   "source": [
    "1\\. **The HelloWorld replacement**\n",
    "\n",
    "a) Write a program that:\n",
    "- prints the numbers from 1 to 100\n",
    "- but for multiples of three print \"`Hello`\" instead of the number and for the multiples of five print \"`World`\"\n",
    "- for numbers which are multiples of both three and five print \"`HelloWorld`\".\n",
    "\n",
    "b) Put the result in a tuple and substitute \"`Hello`\" with \"`Python`\" and \"`World`\" with \"`Works`\"."
   ]
  },
  {
   "cell_type": "code",
   "execution_count": 2,
   "metadata": {},
   "outputs": [],
   "source": [
    "#prints numbers from 1 - 100\n",
    "numbers=[num for num in range(1,101)]\n",
    "\n",
    "#for number in numbers:\n",
    "    #print(number)"
   ]
  },
  {
   "cell_type": "code",
   "execution_count": 30,
   "metadata": {},
   "outputs": [],
   "source": [
    "#prints numbers from 1 - 100\n",
    "#Replace the multiples of 3 and 5\n",
    "\n",
    "#numbers=[num for num in range(1,101)]\n",
    "\n",
    "#for number in numbers:\n",
    "  #  if (number%3==0 and number%5!=0):\n",
    "     #   number=\"Hello\"\n",
    "       # print(number)\n",
    "        \n",
    "    #elif (number%3!=0 and number%5==0):\n",
    "      #  number=\"World\"    \n",
    "       # print(number)\n",
    "        \n",
    "    #elif (number%3==0 and number%5==0):\n",
    "      #  number=\"Hello world\"\n",
    "       # print(number)    \n",
    "        \n",
    "    \n",
    "        \n",
    "   # else:print(number)    \n"
   ]
  },
  {
   "cell_type": "code",
   "execution_count": 41,
   "metadata": {},
   "outputs": [
    {
     "name": "stdout",
     "output_type": "stream",
     "text": [
      "This is a tuple : (1, 2, 'Hello', 4, 'World', 'Hello', 7, 8, 'Hello', 'World', 11, 'Hello', 13, 14, 'Python works', 16, 17, 'Hello', 19, 'World', 'Hello', 22, 23, 'Hello', 'World', 26, 'Hello', 28, 29, 'Python works', 31, 32, 'Hello', 34, 'World', 'Hello', 37, 38, 'Hello', 'World', 41, 'Hello', 43, 44, 'Python works', 46, 47, 'Hello', 49, 'World', 'Hello', 52, 53, 'Hello', 'World', 56, 'Hello', 58, 59, 'Python works', 61, 62, 'Hello', 64, 'World', 'Hello', 67, 68, 'Hello', 'World', 71, 'Hello', 73, 74, 'Python works', 76, 77, 'Hello', 79, 'World', 'Hello', 82, 83, 'Hello', 'World', 86, 'Hello', 88, 89, 'Python works', 91, 92, 'Hello', 94, 'World', 'Hello', 97, 98, 'Hello', 'World')\n"
     ]
    }
   ],
   "source": [
    "numbers=[num for num in range(1,101)]\n",
    "\n",
    "modified_list=[]\n",
    "for number in numbers:\n",
    "    if (number%3==0 and number%5!=0):\n",
    "        number=\"Hello\"\n",
    "        modified_list.append(number)\n",
    "       # print(number)\n",
    "        \n",
    "    elif (number%3!=0 and number%5==0):\n",
    "        number=\"World\" \n",
    "        modified_list.append(number)\n",
    " \n",
    "        \n",
    "    elif (number%3==0 and number%5==0):\n",
    "        number=\"Hello world\"\n",
    "        modified_list.append(number)\n",
    "          \n",
    "        \n",
    "    \n",
    "        \n",
    "    else:modified_list.append(number)\n",
    "#print('modified_list')\n",
    "\n",
    "#replacing Hello world to Python works\n",
    "#print(len(modified_list))\n",
    "\n",
    "New_list=[]\n",
    "\n",
    "for val in range(len(modified_list)):\n",
    "    if modified_list[val]==\"Hello world\":\n",
    "        modified_list[val]=\"Python works\"\n",
    "        New_list.append(modified_list[val])\n",
    "    else:\n",
    "        New_list.append(modified_list[val])\n",
    "\n",
    "#print('This is a new lis', New_list)        \n",
    "        \n",
    "#casting list to tuple\n",
    "list_tuple=tuple(New_list)\n",
    "print(\"This is a tuple :\",list_tuple)      \n",
    "\n",
    "      \n",
    "\n",
    "  \n",
    "    \n"
   ]
  },
  {
   "cell_type": "markdown",
   "metadata": {},
   "source": [
    "2\\. **The swap**\n",
    "\n",
    "Write a program that swaps the values of two input variables `x` and `y` from command line (whatever the type).\n",
    "\n",
    "Try to do that without using a temporary variable, exploiting the Python syntax.\n",
    "\n"
   ]
  },
  {
   "cell_type": "code",
   "execution_count": 33,
   "metadata": {},
   "outputs": [
    {
     "name": "stdout",
     "output_type": "stream",
     "text": [
      "This is before swap : 2\n",
      "140462753054992\n",
      "This is before swap : 3\n",
      "140462753055024\n",
      "This is after swap : 3\n",
      "140462753055024\n",
      "This is after swap : 2\n",
      "140462753054992\n"
     ]
    }
   ],
   "source": [
    "#Before swap\n",
    "A,B=x,y\n",
    "print(\"This is before swap :\",x)\n",
    "print(id(A))\n",
    "print(\"This is before swap :\",y)\n",
    "print(id(y))\n",
    "\n",
    "\n",
    "#After swap\n",
    "x,y=y,x\n",
    "print(\"This is after swap :\",x)\n",
    "print(id(x))\n",
    "print(\"This is after swap :\",y)\n",
    "print(id(y))\n"
   ]
  },
  {
   "cell_type": "markdown",
   "metadata": {},
   "source": [
    "3\\. **Computing the distance**\n",
    "\n",
    "Write a program that calculates and prints the euclidean distance between two given points $u$ and $v$ in a 2D space, where $u$ and $v$ are both 2-tuples $(x,y)$.\n",
    "\n",
    "Example: if $u=(3,0)$ and $v=(0,4)$, the function should return $5$.\n",
    "\n",
    "*Hint:* in order to compute the square root, import the `math` library with `import math` and use `math.sqrt()`."
   ]
  },
  {
   "cell_type": "code",
   "execution_count": 44,
   "metadata": {},
   "outputs": [
    {
     "name": "stdout",
     "output_type": "stream",
     "text": [
      "5\n"
     ]
    }
   ],
   "source": [
    "#Question3\n",
    "from math import sqrt\n",
    "u=(3,0)\n",
    "v=(0,4)\n",
    "\n",
    "z= int(sqrt((u[0]-u[1])**2 + (v[0]-v[1])**2))\n",
    "\n",
    "print(z)\n"
   ]
  },
  {
   "cell_type": "markdown",
   "metadata": {},
   "source": [
    "4\\. **Counting letters**\n",
    "\n",
    "Write a program that calculates the number of times each character occurs in a given string. Ignore differences in capitalization.\n",
    "\n",
    "The test strings are:"
   ]
  },
  {
   "cell_type": "code",
   "execution_count": 46,
   "metadata": {},
   "outputs": [],
   "source": [
    "s1 = \"Write a program that prints the numbers from 1 to 100. \\\n",
    "But for multiples of three print Hello instead of the number and for the multiples of five print World. \\\n",
    "For numbers which are multiples of both three and five print HelloWorld.\"\n",
    "s2 = \"The quick brown fox jumps over the lazy dog\""
   ]
  },
  {
   "cell_type": "code",
   "execution_count": 52,
   "metadata": {},
   "outputs": [
    {
     "name": "stdout",
     "output_type": "stream",
     "text": [
      "Count of characters is:\n",
      "{'a': 1, 'o': 4, 'w': 1, 'v': 1, 's': 1, 'l': 1, 'j': 1, 'e': 3, 'f': 1, 'i': 1, 'r': 2, 'g': 1, 'u': 2, 't': 2, 'y': 1, ' ': 8, 'c': 1, 'z': 1, 'k': 1, 'h': 2, 'x': 1, 'b': 1, 'n': 1, 'p': 1, 'q': 1, 'm': 1, 'd': 1}\n"
     ]
    }
   ],
   "source": [
    "#Converting the input to lowercase\n",
    "input_sentence=s2.lower()\n",
    "\n",
    "mySet = set(input_sentence)\n",
    "countOfChars = dict()\n",
    "for element in mySet:\n",
    "    countOfChar = 0\n",
    "    for character in input_setntence:\n",
    "        if character == element:\n",
    "            countOfChar += 1\n",
    "    countOfChars[element] = countOfChar\n",
    "print(\"Count of characters is:\")\n",
    "print(countOfChars)\n",
    "\n",
    "#Using for loop\n",
    "###mySet = set(input_sentence)\n",
    "#for element in mySet:\n",
    "    #countOfChar = 0\n",
    "    #for character in input_sentence:\n",
    "        #if character == element:\n",
    "            #countOfChar += 1\n",
    "    #print(\"Count of character '{}' is {}\".format(element, countOfChar))"
   ]
  },
  {
   "cell_type": "markdown",
   "metadata": {
    "tags": []
   },
   "source": [
    "5\\. **Isolating the unique**\n",
    "\n",
    "Write a program that determines and counts the unique numbers (numbers with only one occurrence) in the list:"
   ]
  },
  {
   "cell_type": "code",
   "execution_count": 53,
   "metadata": {},
   "outputs": [],
   "source": [
    "l = [36, 45, 58, 3, 74, 96, 64, 45, 31, 10, 24, 19, 33, 86, 99, 18, 63, 70, 85,\n",
    " 85, 63, 47, 56, 42, 70, 84, 88, 55, 20, 54, 8, 56, 51, 79, 81, 57, 37, 91,\n",
    " 1, 84, 84, 36, 66, 9, 89, 50, 42, 91, 50, 95, 90, 98, 39, 16, 82, 31, 92, 41,\n",
    " 45, 30, 66, 70, 34, 85, 94, 5, 3, 36, 72, 91, 84, 34, 87, 75, 53, 51, 20, 89, 51, 20]"
   ]
  },
  {
   "cell_type": "code",
   "execution_count": 56,
   "metadata": {},
   "outputs": [
    {
     "name": "stdout",
     "output_type": "stream",
     "text": [
      "Count of unique values using Counter: 54\n"
     ]
    }
   ],
   "source": [
    "#Using counter library\n",
    "from collections import Counter\n",
    "l = [36, 45, 58, 3, 74, 96, 64, 45, 31, 10, 24, 19, 33, 86, 99, 18, 63, 70, 85,\n",
    " 85, 63, 47, 56, 42, 70, 84, 88, 55, 20, 54, 8, 56, 51, 79, 81, 57, 37, 91,\n",
    " 1, 84, 84, 36, 66, 9, 89, 50, 42, 91, 50, 95, 90, 98, 39, 16, 82, 31, 92, 41,\n",
    " 45, 30, 66, 70, 34, 85, 94, 5, 3, 36, 72, 91, 84, 34, 87, 75, 53, 51, 20, 89, 51, 20]\n",
    "\n",
    "counter_obj = Counter(l)\n",
    "\n",
    "unique_count = len(counter_obj)\n",
    "\n",
    "print(\"Count of unique values using Counter:\", unique_count)\n",
    "    "
   ]
  },
  {
   "cell_type": "markdown",
   "metadata": {},
   "source": [
    "Do the same exploiting only the Python data structures."
   ]
  },
  {
   "cell_type": "code",
   "execution_count": 59,
   "metadata": {},
   "outputs": [
    {
     "name": "stdout",
     "output_type": "stream",
     "text": [
      "54\n"
     ]
    }
   ],
   "source": [
    "#Using data structures\n",
    "l = [36, 45, 58, 3, 74, 96, 64, 45, 31, 10, 24, 19, 33, 86, 99, 18, 63, 70, 85,\n",
    " 85, 63, 47, 56, 42, 70, 84, 88, 55, 20, 54, 8, 56, 51, 79, 81, 57, 37, 91,\n",
    " 1, 84, 84, 36, 66, 9, 89, 50, 42, 91, 50, 95, 90, 98, 39, 16, 82, 31, 92, 41,\n",
    " 45, 30, 66, 70, 34, 85, 94, 5, 3, 36, 72, 91, 84, 34, 87, 75, 53, 51, 20, 89, 51, 20]\n",
    "\n",
    "l_set=set(l)\n",
    "print(len(l_set))"
   ]
  },
  {
   "cell_type": "markdown",
   "metadata": {},
   "source": [
    "6\\. **Casting**\n",
    "\n",
    "Write a program that:\n",
    "* reads from command line two variables, that can be either `int`, `float`, or `str`.\n",
    "* use the `try`/`except` expressions to perform the addition of these two variables, only if possible\n",
    "* print the result without making the code crash for all the `int`/`float`/`str` input combinations."
   ]
  },
  {
   "cell_type": "code",
   "execution_count": 73,
   "metadata": {},
   "outputs": [
    {
     "name": "stdin",
     "output_type": "stream",
     "text": [
      "Enter the value 1:  true\n",
      "Enter a value 2:  6\n"
     ]
    },
    {
     "name": "stdout",
     "output_type": "stream",
     "text": [
      "cannot perform the operation\n"
     ]
    }
   ],
   "source": [
    "x = input(\"Enter the value 1: \")\n",
    "y = input(\"Enter a value 2: \")\n",
    "try:\n",
    "    z=x+y+2\n",
    "\n",
    "    print(z)\n",
    "\n",
    "except:\n",
    "    print(\"cannot perform the operation\")\n",
    "    \n",
    "    "
   ]
  },
  {
   "cell_type": "markdown",
   "metadata": {},
   "source": [
    "7\\. **Cubes**\n",
    "\n",
    "Create a list of the cubes of *x* for *x* in *[0, 10]* using:\n",
    "\n",
    "a) a for loop\n",
    "\n",
    "b) a list comprehension"
   ]
  },
  {
   "cell_type": "code",
   "execution_count": 83,
   "metadata": {},
   "outputs": [
    {
     "name": "stdout",
     "output_type": "stream",
     "text": [
      "[0, 1, 8, 27, 64, 125, 216, 343, 512, 729, 1000]\n"
     ]
    }
   ],
   "source": [
    "#using for loops\n",
    "cubes=[]\n",
    "for x in range (0,11):\n",
    "    \n",
    "    cube=x**3\n",
    "    cubes.append(cube)\n",
    "    \n",
    "print(cubes)\n",
    "    "
   ]
  },
  {
   "cell_type": "code",
   "execution_count": 85,
   "metadata": {},
   "outputs": [
    {
     "name": "stdout",
     "output_type": "stream",
     "text": [
      "[0, 1, 8, 27, 64, 125, 216, 343, 512, 729, 1000]\n"
     ]
    }
   ],
   "source": [
    "#using list comprehension\n",
    "cubeS=[x**3 for x in range(0,11)]\n",
    "print(cubeS)\n"
   ]
  },
  {
   "cell_type": "markdown",
   "metadata": {},
   "source": [
    "8\\. **List comprehension**\n",
    "\n",
    "Write, using the list comprehension, a single-line expression that gets the same result as the code in the cell below."
   ]
  },
  {
   "cell_type": "code",
   "execution_count": 86,
   "metadata": {},
   "outputs": [
    {
     "name": "stdout",
     "output_type": "stream",
     "text": [
      "[(0, 0), (0, 1), (0, 2), (0, 3), (1, 0), (1, 1), (1, 2), (1, 3), (2, 0), (2, 1), (2, 2), (2, 3)]\n"
     ]
    }
   ],
   "source": [
    "a = []\n",
    "for i in range(3):\n",
    "    for j in range(4):\n",
    "        a.append((i, j))\n",
    "print(a)"
   ]
  },
  {
   "cell_type": "code",
   "execution_count": 90,
   "metadata": {},
   "outputs": [
    {
     "name": "stdout",
     "output_type": "stream",
     "text": [
      "[(0, 0), (0, 1), (0, 2), (0, 3), (1, 0), (1, 1), (1, 2), (1, 3), (2, 0), (2, 1), (2, 2), (2, 3)]\n"
     ]
    }
   ],
   "source": [
    "#Using list comprehension question 8\n",
    "a=[(i, j) for i in range(3)  for j in range(4)]\n",
    "print(a)\n"
   ]
  },
  {
   "cell_type": "markdown",
   "metadata": {},
   "source": [
    "9\\. **Nested list comprehension**\n",
    "\n",
    "> A Pythagorean triple is an integer solution to the Pythagorean theorem $a^2+b^2=c^2$. The first Pythagorean triple is (3, 4, 5).\n",
    "\n",
    "Find and put in a tuple all unique Pythagorean triples for the positive integers $a$, $b$ and $c$ with $c < 100$."
   ]
  },
  {
   "cell_type": "code",
   "execution_count": 92,
   "metadata": {},
   "outputs": [
    {
     "name": "stdout",
     "output_type": "stream",
     "text": [
      "[(3, 4, 5), (5, 12, 13), (6, 8, 10), (7, 24, 25), (8, 15, 17), (9, 12, 15), (9, 40, 41), (10, 24, 26), (11, 60, 61), (12, 16, 20), (12, 35, 37), (13, 84, 85), (14, 48, 50), (15, 20, 25), (15, 36, 39), (16, 30, 34), (16, 63, 65), (18, 24, 30), (18, 80, 82), (20, 21, 29), (20, 48, 52), (21, 28, 35), (21, 72, 75), (24, 32, 40), (24, 45, 51), (24, 70, 74), (25, 60, 65), (27, 36, 45), (28, 45, 53), (30, 40, 50), (30, 72, 78), (32, 60, 68), (33, 44, 55), (33, 56, 65), (35, 84, 91), (36, 48, 60), (36, 77, 85), (39, 52, 65), (39, 80, 89), (40, 42, 58), (40, 75, 85), (42, 56, 70), (45, 60, 75), (48, 55, 73), (48, 64, 80), (51, 68, 85), (54, 72, 90), (57, 76, 95), (60, 63, 87), (65, 72, 97)]\n"
     ]
    }
   ],
   "source": [
    "py_triplet = [(a,b,c) for a in range(1,100) for b in range(a,100) for c in range(b,100-1) if a**2 + b**2 == c**2]\n",
    "\n",
    "print(py_triplet)"
   ]
  },
  {
   "cell_type": "markdown",
   "metadata": {},
   "source": [
    "10\\. **Normalization of a N-dimensional vector**\n",
    "\n",
    "Write a program that takes an N-dimensional vector, e.g. a variable-length tuple of numbers, and normalizes it to one (in such a way that the squared sum of all the entries is equal to 1)."
   ]
  },
  {
   "cell_type": "markdown",
   "metadata": {},
   "source": [
    "11\\. **The Fibonacci sequence**\n",
    "\n",
    "Calculate the first 20 numbers of the [Fibonacci sequence](https://en.wikipedia.org/wiki/Fibonacci_number) using only `for` or `while` loops."
   ]
  }
 ],
 "metadata": {
  "kernelspec": {
   "display_name": "Python 3 (ipykernel)",
   "language": "python",
   "name": "python3"
  },
  "language_info": {
   "codemirror_mode": {
    "name": "ipython",
    "version": 3
   },
   "file_extension": ".py",
   "mimetype": "text/x-python",
   "name": "python",
   "nbconvert_exporter": "python",
   "pygments_lexer": "ipython3",
   "version": "3.10.9"
  }
 },
 "nbformat": 4,
 "nbformat_minor": 4
}
