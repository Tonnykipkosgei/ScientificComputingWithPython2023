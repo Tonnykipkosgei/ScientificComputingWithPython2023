{
 "cells": [
  {
   "cell_type": "markdown",
   "metadata": {},
   "source": [
    "You can solve these exercises in the room or at home. For this week, and the next 3 weeks, exercises have to be solved by creating a single dedicated `.py` file called `01ex_introduction.py`.\n",
    "\n",
    "You can divide the individual exercises in the source code with appropriate comments (`#`).\n",
    "\n",
    "The exercises need to run without errors with `python3 01ex_introduction.py`."
   ]
  },
  {
   "cell_type": "markdown",
   "metadata": {},
   "source": [
    "1\\. **The HelloWorld replacement**\n",
    "\n",
    "a) Write a program that:\n",
    "- prints the numbers from 1 to 100\n",
    "- but for multiples of three print \"`Hello`\" instead of the number and for the multiples of five print \"`World`\"\n",
    "- for numbers which are multiples of both three and five print \"`HelloWorld`\".\n",
    "\n",
    "b) Put the result in a tuple and substitute \"`Hello`\" with \"`Python`\" and \"`World`\" with \"`Works`\"."
   ]
  },
  {
   "cell_type": "code",
   "execution_count": 13,
   "metadata": {},
   "outputs": [
    {
     "name": "stdout",
     "output_type": "stream",
     "text": [
      "0\n",
      "1\n",
      "2\n",
      "3\n",
      "4\n",
      "5\n",
      "6\n",
      "7\n",
      "8\n",
      "9\n",
      "10\n",
      "11\n",
      "12\n",
      "13\n",
      "14\n",
      "15\n",
      "16\n",
      "17\n",
      "18\n",
      "19\n",
      "20\n",
      "21\n",
      "22\n",
      "23\n",
      "24\n",
      "25\n",
      "26\n",
      "27\n",
      "28\n",
      "29\n",
      "30\n",
      "31\n",
      "32\n",
      "33\n",
      "34\n",
      "35\n",
      "36\n",
      "37\n",
      "38\n",
      "39\n",
      "40\n",
      "41\n",
      "42\n",
      "43\n",
      "44\n",
      "45\n",
      "46\n",
      "47\n",
      "48\n",
      "49\n",
      "50\n",
      "51\n",
      "52\n",
      "53\n",
      "54\n",
      "55\n",
      "56\n",
      "57\n",
      "58\n",
      "59\n",
      "60\n",
      "61\n",
      "62\n",
      "63\n",
      "64\n",
      "65\n",
      "66\n",
      "67\n",
      "68\n",
      "69\n",
      "70\n",
      "71\n",
      "72\n",
      "73\n",
      "74\n",
      "75\n",
      "76\n",
      "77\n",
      "78\n",
      "79\n",
      "80\n",
      "81\n",
      "82\n",
      "83\n",
      "84\n",
      "85\n",
      "86\n",
      "87\n",
      "88\n",
      "89\n",
      "90\n",
      "91\n",
      "92\n",
      "93\n",
      "94\n",
      "95\n",
      "96\n",
      "97\n",
      "98\n",
      "99\n",
      "100\n"
     ]
    }
   ],
   "source": [
    "#1\\. **The HelloWorld replacement**\n",
    "\n",
    "#Program to print fro 1 to 100\n",
    "\n",
    "numbers=[x  for x in range(101)]\n",
    "\n",
    "for num in numbers:\n",
    "    print(num)\n",
    "\n",
    "    \n",
    "        "
   ]
  },
  {
   "cell_type": "code",
   "execution_count": 18,
   "metadata": {},
   "outputs": [
    {
     "name": "stdout",
     "output_type": "stream",
     "text": [
      "[1, 2, 'Hello', 4, 'World', 'Hello', 7, 8, 'Hello', 'World', 11, 'Hello', 13, 14, 'Hello World', 16, 17, 'Hello', 19, 'World', 'Hello', 22, 23, 'Hello', 'World', 26, 'Hello', 28, 29, 'Hello World', 31, 32, 'Hello', 34, 'World', 'Hello', 37, 38, 'Hello', 'World', 41, 'Hello', 43, 44, 'Hello World', 46, 47, 'Hello', 49, 'World', 'Hello', 52, 53, 'Hello', 'World', 56, 'Hello', 58, 59, 'Hello World', 61, 62, 'Hello', 64, 'World', 'Hello', 67, 68, 'Hello', 'World', 71, 'Hello', 73, 74, 'Hello World', 76, 77, 'Hello', 79, 'World', 'Hello', 82, 83, 'Hello', 'World', 86, 'Hello', 88, 89, 'Hello World', 91, 92, 'Hello', 94, 'World', 'Hello', 97, 98, 'Hello', 'World']\n",
      "(1, 2, 'Python', 4, 'Works', 'Python', 7, 8, 'Python', 'Works', 11, 'Python', 13, 14, 'Hello World', 16, 17, 'Python', 19, 'Works', 'Python', 22, 23, 'Python', 'Works', 26, 'Python', 28, 29, 'Hello World', 31, 32, 'Python', 34, 'Works', 'Python', 37, 38, 'Python', 'Works', 41, 'Python', 43, 44, 'Hello World', 46, 47, 'Python', 49, 'Works', 'Python', 52, 53, 'Python', 'Works', 56, 'Python', 58, 59, 'Hello World', 61, 62, 'Python', 64, 'Works', 'Python', 67, 68, 'Python', 'Works', 71, 'Python', 73, 74, 'Hello World', 76, 77, 'Python', 79, 'Works', 'Python', 82, 83, 'Python', 'Works', 86, 'Python', 88, 89, 'Hello World', 91, 92, 'Python', 94, 'Works', 'Python', 97, 98, 'Python', 'Works')\n"
     ]
    }
   ],
   "source": [
    "replaced = []\n",
    "for num in range(1, 101):\n",
    "    if num % 3 == 0 and num % 5 != 0:\n",
    "        replaced.append(\"Hello\")\n",
    "    elif num % 3 != 0 and num % 5 == 0:\n",
    "        replaced.append(\"World\")\n",
    "    elif num % 3 == 0 and num % 5 == 0:\n",
    "        replaced.append(\"Hello World\")\n",
    "    else:\n",
    "        replaced.append(num)\n",
    "\n",
    "print(replaced)\n",
    "\n",
    "modified_replaced = []\n",
    "for val in replaced:\n",
    "    if val == \"Hello\":\n",
    "        modified_replaced.append(\"Python\")\n",
    "    elif val == \"World\":\n",
    "        modified_replaced.append(\"Works\")\n",
    "    else:\n",
    "        modified_replaced.append(val)\n",
    "\n",
    "result_tuple = tuple(modified_replaced)\n",
    "print(result_tuple)       "
   ]
  },
  {
   "cell_type": "markdown",
   "metadata": {},
   "source": [
    "2\\. **The swap**\n",
    "\n",
    "Write a program that swaps the values of two input variables `x` and `y` from command line (whatever the type).\n",
    "\n",
    "Try to do that without using a temporary variable, exploiting the Python syntax.\n"
   ]
  },
  {
   "cell_type": "code",
   "execution_count": 19,
   "metadata": {},
   "outputs": [
    {
     "name": "stdout",
     "output_type": "stream",
     "text": [
      "x before swap 6\n",
      "y before swap 7\n",
      "x after swap 7\n",
      "y after swap 6\n"
     ]
    }
   ],
   "source": [
    "X=6\n",
    "print(\"x before swap\",X)\n",
    "Y=7\n",
    "print(\"y before swap\",Y)\n",
    "X,Y=Y,X\n",
    "\n",
    "print(\"x after swap\",X)\n",
    "print(\"y after swap\",Y)\n",
    "\n",
    "\n",
    "\n"
   ]
  },
  {
   "cell_type": "markdown",
   "metadata": {},
   "source": [
    "3\\. **Computing the distance**\n",
    "\n",
    "Write a program that calculates and prints the euclidean distance between two given points $u$ and $v$ in a 2D space, where $u$ and $v$ are both 2-tuples $(x,y)$.\n",
    "\n",
    "Example: if $u=(3,0)$ and $v=(0,4)$, the function should return $5$.\n",
    "\n",
    "*Hint:* in order to compute the square root, import the `math` library with `import math` and use `math.sqrt()`."
   ]
  },
  {
   "cell_type": "code",
   "execution_count": 20,
   "metadata": {},
   "outputs": [
    {
     "name": "stdout",
     "output_type": "stream",
     "text": [
      "The Euclidean distance between (3, 0) and (0, 4) is 5.00\n"
     ]
    }
   ],
   "source": [
    "import math\n",
    "\n",
    "# Define the points u and v as 2-tuples (x, y)\n",
    "u = (3, 0)\n",
    "v = (0, 4)\n",
    "\n",
    "# Calculate the Euclidean distance using the formula\n",
    "distance = math.sqrt((u[0] - v[0]) ** 2 + (u[1] - v[1]) ** 2)\n",
    "\n",
    "# Print the result\n",
    "print(f\"The Euclidean distance between {u} and {v} is {distance:.2f}\")\n"
   ]
  },
  {
   "cell_type": "markdown",
   "metadata": {},
   "source": [
    "4\\. **Counting letters**\n",
    "\n",
    "Write a program that calculates the number of times each character occurs in a given string. Ignore differences in capitalization.\n",
    "\n",
    "The test strings are:"
   ]
  },
  {
   "cell_type": "code",
   "execution_count": 56,
   "metadata": {},
   "outputs": [],
   "source": [
    "s1 = \"Write a program that prints the numbers from 1 to 100. \\\n",
    "But for multiples of three print Hello instead of the number and for the multiples of five print World. \\\n",
    "For numbers which are multiples of both three and five print HelloWorld.\"\n",
    "s2 = \"The quick brown fox jumps over the lazy dog\""
   ]
  },
  {
   "cell_type": "code",
   "execution_count": 59,
   "metadata": {},
   "outputs": [
    {
     "name": "stdout",
     "output_type": "stream",
     "text": [
      "The input string is: the quick brown fox jumps over the lazy dog\n",
      "Count of characters is:\n",
      "{'o': 4, 'a': 1, 'h': 2, 'l': 1, 'j': 1, 'e': 3, 'v': 1, 'z': 1, 'w': 1, 'r': 2, 'q': 1, 'b': 1, 'm': 1, 'p': 1, 'g': 1, 'u': 2, 'x': 1, 'i': 1, 't': 2, 'n': 1, 'y': 1, 'f': 1, 'd': 1, 's': 1, ' ': 8, 'c': 1, 'k': 1}\n"
     ]
    }
   ],
   "source": [
    "input_string=s2.lower()\n",
    "print(\"The input string is:\", input_string)\n",
    "mySet = set(input_string)\n",
    "countOfChars = dict()\n",
    "for element in mySet:\n",
    "    countOfChar = 0\n",
    "    for character in input_string:\n",
    "        if character == element:\n",
    "            countOfChar += 1\n",
    "    countOfChars[element] = countOfChar\n",
    "print(\"Count of characters is:\")\n",
    "print(countOfChars)"
   ]
  },
  {
   "cell_type": "markdown",
   "metadata": {},
   "source": [
    "5\\. **Isolating the unique**\n",
    "\n",
    "Write a program that determines and counts the unique numbers (numbers with only one occurrence) in the list:"
   ]
  },
  {
   "cell_type": "code",
   "execution_count": 60,
   "metadata": {},
   "outputs": [],
   "source": [
    "l = [36, 45, 58, 3, 74, 96, 64, 45, 31, 10, 24, 19, 33, 86, 99, 18, 63, 70, 85,\n",
    " 85, 63, 47, 56, 42, 70, 84, 88, 55, 20, 54, 8, 56, 51, 79, 81, 57, 37, 91,\n",
    " 1, 84, 84, 36, 66, 9, 89, 50, 42, 91, 50, 95, 90, 98, 39, 16, 82, 31, 92, 41, 45, 30, 66, 70, 34, 85, 94, 5, 3, 36, 72, 91, 84, 34, 87, 75, 53, 51, 20, 89, 51, 20]"
   ]
  },
  {
   "cell_type": "code",
   "execution_count": 75,
   "metadata": {},
   "outputs": [
    {
     "name": "stdout",
     "output_type": "stream",
     "text": [
      "54\n"
     ]
    }
   ],
   "source": [
    "import collections\n",
    "unique_counts = collections.Counter(e for e in l)\n",
    "\n",
    "print(len(set(unique_counts)))"
   ]
  },
  {
   "cell_type": "code",
   "execution_count": 71,
   "metadata": {},
   "outputs": [
    {
     "name": "stdout",
     "output_type": "stream",
     "text": [
      "54\n"
     ]
    }
   ],
   "source": [
    "unique_l= len(set(l))\n",
    "print(unique_l)\n",
    "                \n",
    "                    "
   ]
  },
  {
   "cell_type": "markdown",
   "metadata": {},
   "source": [
    "Do the same exploiting only the Python data structures."
   ]
  },
  {
   "cell_type": "markdown",
   "metadata": {},
   "source": [
    "6\\. **Casting**\n",
    "\n",
    "Write a program that:\n",
    "* reads from command line two variables, that can be either `int`, `float`, or `str`.\n",
    "* use the `try`/`except` expressions to perform the addition of these two variables, only if possible\n",
    "* print the result without making the code crash for all the `int`/`float`/`str` input combinations."
   ]
  },
  {
   "cell_type": "code",
   "execution_count": 78,
   "metadata": {},
   "outputs": [
    {
     "name": "stdin",
     "output_type": "stream",
     "text": [
      "Enter a value 6\n",
      "Enter a value dddd\n"
     ]
    },
    {
     "name": "stdout",
     "output_type": "stream",
     "text": [
      "Error: the sum is not possible.\n"
     ]
    }
   ],
   "source": [
    "value1=int(input(\"Enter a value\"))\n",
    "value2=str(input(\"Enter a value\"))\n",
    "\n",
    "try:\n",
    "\n",
    "    result = value1 + value2\n",
    "\n",
    "    print(result)\n",
    "except:\n",
    "    print(\"Error: the sum is not possible.\")\n",
    "\n"
   ]
  },
  {
   "cell_type": "code",
   "execution_count": null,
   "metadata": {},
   "outputs": [],
   "source": []
  },
  {
   "cell_type": "markdown",
   "metadata": {},
   "source": [
    "7\\. **Cubes**\n",
    "\n",
    "Create a list of the cubes of *x* for *x* in *[0, 10]* using:\n",
    "\n",
    "a) a for loop\n",
    "\n",
    "b) a list comprehension"
   ]
  },
  {
   "cell_type": "code",
   "execution_count": 52,
   "metadata": {},
   "outputs": [
    {
     "name": "stdout",
     "output_type": "stream",
     "text": [
      "[0, 1, 8, 27, 64, 125, 216, 343, 512, 729]\n"
     ]
    }
   ],
   "source": [
    "cubes=[]\n",
    "for x in range(10):\n",
    "    cube=x*x*x\n",
    "    cubes.append(cube)\n",
    "    \n",
    "print(cubes)    \n",
    "    "
   ]
  },
  {
   "cell_type": "markdown",
   "metadata": {},
   "source": [
    "8\\. **List comprehension**\n",
    "\n",
    "Write, using the list comprehension, a single-line expression that gets the same result as the code in the cell below."
   ]
  },
  {
   "cell_type": "code",
   "execution_count": 54,
   "metadata": {},
   "outputs": [
    {
     "name": "stdout",
     "output_type": "stream",
     "text": [
      "[0, 1, 8, 27, 64, 125, 216, 343, 512, 729]\n"
     ]
    }
   ],
   "source": [
    "cubes=[x*x*x for x in range(10)]\n",
    "\n",
    "print(cubes)"
   ]
  },
  {
   "cell_type": "code",
   "execution_count": 42,
   "metadata": {},
   "outputs": [
    {
     "name": "stdout",
     "output_type": "stream",
     "text": [
      "[(0, 0), (0, 1), (0, 2), (0, 3), (1, 0), (1, 1), (1, 2), (1, 3), (2, 0), (2, 1), (2, 2), (2, 3)]\n"
     ]
    }
   ],
   "source": [
    "a = []\n",
    "for i in range(3):\n",
    "    for j in range(4):\n",
    "        a.append((i, j))\n",
    "print(a)"
   ]
  },
  {
   "cell_type": "code",
   "execution_count": 49,
   "metadata": {},
   "outputs": [
    {
     "data": {
      "text/plain": [
       "[(0, 0),\n",
       " (0, 1),\n",
       " (0, 2),\n",
       " (0, 3),\n",
       " (1, 0),\n",
       " (1, 1),\n",
       " (1, 2),\n",
       " (1, 3),\n",
       " (2, 0),\n",
       " (2, 1),\n",
       " (2, 2),\n",
       " (2, 3)]"
      ]
     },
     "execution_count": 49,
     "metadata": {},
     "output_type": "execute_result"
    }
   ],
   "source": [
    "list_=[(i,j) for i in range(3)  for j in range (4)]\n",
    "list_"
   ]
  },
  {
   "cell_type": "markdown",
   "metadata": {},
   "source": [
    "9\\. **Nested list comprehension**\n",
    "\n",
    "> A Pythagorean triple is an integer solution to the Pythagorean theorem $a^2+b^2=c^2$. The first Pythagorean triple is (3, 4, 5).\n",
    "\n",
    "Find and put in a tuple all unique Pythagorean triples for the positive integers $a$, $b$ and $c$ with $c < 100$."
   ]
  },
  {
   "cell_type": "code",
   "execution_count": 39,
   "metadata": {},
   "outputs": [
    {
     "name": "stdout",
     "output_type": "stream",
     "text": [
      "(3, 4, 5)\n",
      "(6, 8, 10)\n",
      "(5, 12, 13)\n",
      "(9, 12, 15)\n",
      "(8, 15, 17)\n",
      "(12, 16, 20)\n",
      "(15, 20, 25)\n",
      "(7, 24, 25)\n",
      "(10, 24, 26)\n",
      "(20, 21, 29)\n",
      "(18, 24, 30)\n",
      "(16, 30, 34)\n",
      "(21, 28, 35)\n",
      "(12, 35, 37)\n",
      "(15, 36, 39)\n",
      "(24, 32, 40)\n",
      "(9, 40, 41)\n",
      "(27, 36, 45)\n",
      "(30, 40, 50)\n",
      "(14, 48, 50)\n",
      "(24, 45, 51)\n",
      "(20, 48, 52)\n",
      "(28, 45, 53)\n",
      "(33, 44, 55)\n",
      "(40, 42, 58)\n",
      "(36, 48, 60)\n",
      "(11, 60, 61)\n",
      "(39, 52, 65)\n",
      "(33, 56, 65)\n",
      "(25, 60, 65)\n",
      "(16, 63, 65)\n",
      "(32, 60, 68)\n",
      "(42, 56, 70)\n",
      "(48, 55, 73)\n",
      "(24, 70, 74)\n",
      "(45, 60, 75)\n",
      "(21, 72, 75)\n",
      "(30, 72, 78)\n",
      "(48, 64, 80)\n",
      "(18, 80, 82)\n",
      "(51, 68, 85)\n",
      "(40, 75, 85)\n",
      "(36, 77, 85)\n",
      "(13, 84, 85)\n",
      "(60, 63, 87)\n",
      "(39, 80, 89)\n",
      "(54, 72, 90)\n",
      "(35, 84, 91)\n",
      "(57, 76, 95)\n",
      "(65, 72, 97)\n"
     ]
    }
   ],
   "source": [
    "# Define the range of values for a, b, and c\n",
    "n = 100  # You can change this to generate more triples\n",
    "\n",
    "# Use list comprehension to generate Pythagorean triples\n",
    "triples = [(a, b, c) for c in range(1, n) for b in range(1, c) for a in range(1, b) if a**2 + b**2 == c**2]\n",
    "\n",
    "# Print the generated Pythagorean triples\n",
    "for triple in triples:\n",
    "    print(triple)\n"
   ]
  },
  {
   "cell_type": "markdown",
   "metadata": {},
   "source": [
    "10\\. **Normalization of a N-dimensional vector**\n",
    "\n",
    "Write a program that takes an N-dimensional vector, e.g. a variable-length tuple of numbers, and normalizes it to one (in such a way that the squared sum of all the entries is equal to 1)."
   ]
  },
  {
   "cell_type": "code",
   "execution_count": 41,
   "metadata": {},
   "outputs": [
    {
     "name": "stdout",
     "output_type": "stream",
     "text": [
      "Original Vector: (12, 16, 20)\n",
      "Normalized Vector: (0.4242640687119285, 0.565685424949238, 0.7071067811865475)\n"
     ]
    }
   ],
   "source": [
    "import math\n",
    "\n",
    "def normalize_vector(vector):\n",
    "    # Calculate the Euclidean norm of the vector\n",
    "    norm = math.sqrt(sum(x**2 for x in vector))\n",
    "    \n",
    "    # Normalize the vector by dividing each component by the norm\n",
    "    normalized_vector = tuple(x / norm for x in vector)\n",
    "    \n",
    "    return normalized_vector\n",
    "\n",
    "# Example usage:\n",
    "n_dim_vector = (12, 16,20)  # Replace this with your N-dimensional vector\n",
    "normalized = normalize_vector(n_dim_vector)\n",
    "print(\"Original Vector:\", n_dim_vector)\n",
    "print(\"Normalized Vector:\", normalized)\n"
   ]
  },
  {
   "cell_type": "markdown",
   "metadata": {},
   "source": [
    "11\\. **The Fibonacci sequence**\n",
    "\n",
    "Calculate the first 20 numbers of the [Fibonacci sequence](https://en.wikipedia.org/wiki/Fibonacci_number) using only `for` or `while` loops."
   ]
  },
  {
   "cell_type": "code",
   "execution_count": 32,
   "metadata": {},
   "outputs": [
    {
     "name": "stdout",
     "output_type": "stream",
     "text": [
      "Fibonnacci for 0 is 0\n",
      "Fibonnacci for 1 is 1\n",
      "Fibonnacci for 2 is 1\n",
      "Fibonnacci for 3 is 2\n",
      "Fibonnacci for 4 is 3\n",
      "Fibonnacci for 5 is 5\n",
      "Fibonnacci for 6 is 8\n",
      "Fibonnacci for 7 is 13\n",
      "Fibonnacci for 8 is 21\n",
      "Fibonnacci for 9 is 34\n",
      "Fibonnacci for 10 is 55\n",
      "Fibonnacci for 11 is 89\n",
      "Fibonnacci for 12 is 144\n",
      "Fibonnacci for 13 is 233\n",
      "Fibonnacci for 14 is 377\n",
      "Fibonnacci for 15 is 610\n",
      "Fibonnacci for 16 is 987\n",
      "Fibonnacci for 17 is 1597\n",
      "Fibonnacci for 18 is 2584\n",
      "Fibonnacci for 19 is 4181\n"
     ]
    }
   ],
   "source": [
    "def ForFibonacci(n):\n",
    "    a, b = 0, 1\n",
    "    for _ in range(n):\n",
    "        a, b = b, a + b\n",
    "    return a\n",
    "\n",
    "for num in range (20):\n",
    "    print (\"Fibonnacci for\", num, \"is\",ForFibonacci(num))"
   ]
  },
  {
   "cell_type": "code",
   "execution_count": 33,
   "metadata": {},
   "outputs": [],
   "source": [
    "# while Loop Fibonacci function\n",
    "\n",
    "def whileFibonacci(n):\n",
    "    a, b = 0, 1\n",
    "    i = 0\n",
    "    while i < n:\n",
    "        a, b = b, a + b\n",
    "        i += 1\n",
    "    return a"
   ]
  },
  {
   "cell_type": "code",
   "execution_count": 34,
   "metadata": {},
   "outputs": [
    {
     "name": "stdout",
     "output_type": "stream",
     "text": [
      "0\n",
      "1\n",
      "1\n",
      "2\n",
      "3\n",
      "5\n",
      "8\n",
      "13\n",
      "21\n",
      "34\n",
      "55\n",
      "89\n",
      "144\n",
      "233\n",
      "377\n",
      "610\n",
      "987\n",
      "1597\n",
      "2584\n",
      "4181\n"
     ]
    }
   ],
   "source": [
    "for num in range(20):\n",
    "    print(whileFibonacci(num))"
   ]
  },
  {
   "cell_type": "code",
   "execution_count": 37,
   "metadata": {},
   "outputs": [
    {
     "name": "stdout",
     "output_type": "stream",
     "text": [
      "for-based Fibonacci Execution Time: 0.024560 seconds\n",
      "while-based Fibonacci Execution Time: 0.032086 seconds\n"
     ]
    }
   ],
   "source": [
    "import timeit\n",
    "n=20\n",
    "for_loop_time = timeit.timeit('ForFibonacci(n)', globals=globals(), number=10000)\n",
    "\n",
    "While_loop_time = timeit.timeit('whileFibonacci(n)', globals=globals(), number=10000)\n",
    "print(f\"for-based Fibonacci Execution Time: {for_loop_time:.6f} seconds\")\n",
    "print(f\"while-based Fibonacci Execution Time: {While_loop_time:.6f} seconds\")\n",
    "\n"
   ]
  },
  {
   "cell_type": "code",
   "execution_count": null,
   "metadata": {},
   "outputs": [],
   "source": []
  }
 ],
 "metadata": {
  "kernelspec": {
   "display_name": "Python 3 (ipykernel)",
   "language": "python",
   "name": "python3"
  },
  "language_info": {
   "codemirror_mode": {
    "name": "ipython",
    "version": 3
   },
   "file_extension": ".py",
   "mimetype": "text/x-python",
   "name": "python",
   "nbconvert_exporter": "python",
   "pygments_lexer": "ipython3",
   "version": "3.10.9"
  }
 },
 "nbformat": 4,
 "nbformat_minor": 4
}
