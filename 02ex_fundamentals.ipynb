{
 "cells": [
  {
   "cell_type": "markdown",
   "metadata": {},
   "source": [
    "You can solve these exercises in the room or at home. For this week, and the next 3 weeks, exercises have to be solved by creating a single dedicated `.py` file called `02ex_fundamentals.py`.\n",
    "\n",
    "You can divide the individual exercises in the source code with appropriate comments (`#`).\n",
    "\n",
    "The exercises need to run without errors with `python3 02ex_fundamentals.py`."
   ]
  },
  {
   "cell_type": "markdown",
   "metadata": {},
   "source": [
    "1\\. **Global variables**\n",
    "\n",
    "Convert the function $f$ into a function that doesn't use global variables and that does not modify the original list"
   ]
  },
  {
   "cell_type": "code",
   "execution_count": 14,
   "metadata": {},
   "outputs": [],
   "source": [
    "#x = 5\n",
    "\n",
    "#def f(alist):\n",
    " #   for i in range(x):\n",
    "  #      alist.append(i)\n",
    "   # return alist\n",
    "\n",
    "#alist = [1, 2, 3]\n",
    "#ans = f(alist)\n",
    "#print(ans)\n",
    "#print(alist) # alist has been changed"
   ]
  },
  {
   "cell_type": "code",
   "execution_count": 15,
   "metadata": {},
   "outputs": [
    {
     "name": "stdout",
     "output_type": "stream",
     "text": [
      "[0, 1, 2, 3, 4]\n",
      "[1, 2, 3]\n"
     ]
    }
   ],
   "source": [
    "def f(a_list):\n",
    "    x=5 #converting to local variable\n",
    "    new_list=[]\n",
    "    for i in range(x):\n",
    "        new_list.append(i)\n",
    "    return new_list\n",
    "\n",
    "a_list = [1, 2, 3]\n",
    "answer = f(a_list)\n",
    "print(answer)\n",
    "print(blist)\n",
    "    "
   ]
  },
  {
   "cell_type": "markdown",
   "metadata": {},
   "source": [
    "2\\. **List comprehension**\n",
    "\n",
    "Write the following expression using a list comprehension:\n",
    "\n",
    "`ans = list(map(lambda x: x * x, filter(lambda x: x % 2 == 1, range(10))))`"
   ]
  },
  {
   "cell_type": "code",
   "execution_count": 1,
   "metadata": {},
   "outputs": [
    {
     "name": "stdout",
     "output_type": "stream",
     "text": [
      "[1, 9, 25, 49, 81]\n"
     ]
    }
   ],
   "source": [
    "ans = list(map(lambda x: x * x, filter(lambda x: x % 2 == 1, range(10))))\n",
    "print(ans)"
   ]
  },
  {
   "cell_type": "code",
   "execution_count": 4,
   "metadata": {},
   "outputs": [
    {
     "name": "stdout",
     "output_type": "stream",
     "text": [
      "[1, 9, 25, 49, 81]\n"
     ]
    }
   ],
   "source": [
    "new_ans=[x*x for x in range(10) if x%2==1]\n",
    "print(new_ans)"
   ]
  },
  {
   "cell_type": "markdown",
   "metadata": {},
   "source": [
    "3\\. **Filter list**\n",
    "\n",
    "Using the `filter()` hof, define a function that takes a list of words and an integer `n` as arguments, and returns a list of words that are shorter than `n`."
   ]
  },
  {
   "cell_type": "code",
   "execution_count": 25,
   "metadata": {},
   "outputs": [
    {
     "name": "stdout",
     "output_type": "stream",
     "text": [
      "['jeff', 'hey']\n"
     ]
    }
   ],
   "source": [
    "def short_word(words,number):\n",
    "    return list(filter(lambda word:len(word)< number, words))\n",
    "\n",
    "\n",
    "names=[\"jeff\",\"betty\",\"homophobis\",\"hey\"]\n",
    "n=5\n",
    "short=short_word(names,n)\n",
    "print(short)\n"
   ]
  },
  {
   "cell_type": "markdown",
   "metadata": {},
   "source": [
    "4\\. **Map dictionary**\n",
    "\n",
    "\n",
    "Consider the following dictionary:\n",
    "\n",
    "`lang = {\"Python\" : 3, \"Java\" : '', \"Cplusplus\" : 'test', \"Php\" : 0.7}`\n",
    "\n",
    "Write a function that takes the above dictionary and uses the `map()` higher order function to return a list that contains the length of the keys of the dictionary."
   ]
  },
  {
   "cell_type": "code",
   "execution_count": 11,
   "metadata": {},
   "outputs": [
    {
     "name": "stdout",
     "output_type": "stream",
     "text": [
      "[6, 4, 9, 3]\n"
     ]
    }
   ],
   "source": [
    "\n",
    "\n",
    "lang = {\"Python\": 3, \"Java\": '', \"Cplusplus\": 'test', \"Php\": 0.7}\n",
    "\n",
    "def length_keys(key):\n",
    "    return len(key)\n",
    "\n",
    "l_keys = list(map(length_keys, lang.keys()))\n",
    "\n",
    "print(l_keys)\n",
    "    "
   ]
  },
  {
   "cell_type": "markdown",
   "metadata": {
    "jupyter": {
     "source_hidden": true
    },
    "tags": []
   },
   "source": [
    "5\\. **Lambda functions**\n",
    "\n",
    "Write a Python program that sorts the following list of tuples using a lambda function, according to the alphabetical order of the first element of the tuple:\n",
    "\n",
    "`language_scores = [('Python', 97), ('Cplusplus', 81), ('Php', 45), ('Java', 32)]`\n",
    "\n",
    "*Hint*: use the method `sort()` and its argument `key` of the `list` data structure."
   ]
  },
  {
   "cell_type": "code",
   "execution_count": 16,
   "metadata": {},
   "outputs": [
    {
     "name": "stdout",
     "output_type": "stream",
     "text": [
      "[('Cplusplus', 'test'), ('Java', ''), ('Php', 0.7), ('Python', 3)]\n"
     ]
    }
   ],
   "source": [
    "language_scores = {\"Python\": 3, \"Java\": '', \"Cplusplus\": 'test', \"Php\": 0.7}\n",
    "\n",
    "sorted_lang_scores=sorted(language_scores.items(), key=lambda lang: lang[0])\n",
    "\n",
    "print(sorted_lang_scores)\n"
   ]
  },
  {
   "cell_type": "markdown",
   "metadata": {},
   "source": [
    "6\\. **Nested functions**\n",
    "\n",
    "Write two functions: one that returns the square of a number, and one that returns its cube.\n",
    "\n",
    "Then, write a third function that returns the number raised to the 6th power, using only the two previous functions."
   ]
  },
  {
   "cell_type": "code",
   "execution_count": 25,
   "metadata": {},
   "outputs": [
    {
     "name": "stdout",
     "output_type": "stream",
     "text": [
      "Square: 4\n",
      "Cube: 8\n",
      "Power 6: 64\n"
     ]
    }
   ],
   "source": [
    "square = lambda x: x * x\n",
    "cube = lambda x: square(x) * x\n",
    "power_6 = lambda x: square(x) * cube(x) * x\n",
    "\n",
    "# Calculate the square of a number\n",
    "print(\"Square:\", square(2))  # Outputs: 4\n",
    "\n",
    "# Calculate the cube of a number\n",
    "print(\"Cube:\", cube(2))  # Outputs: 8\n",
    "\n",
    "# Calculate the sixth power of a number\n",
    "print(\"Power 6:\", power_6(2))  # Outputs: 64"
   ]
  },
  {
   "cell_type": "markdown",
   "metadata": {},
   "source": [
    "7\\. **Decorators**\n",
    "\n",
    "Write a decorator named `hello` that makes every wrapped function print “Hello World!” each time the function is called.\n",
    "\n",
    "The wrapped function should look like:\n",
    "\n",
    "```python\n",
    "@hello\n",
    "def square(x):\n",
    "    return x*x\n",
    "```"
   ]
  },
  {
   "cell_type": "code",
   "execution_count": 37,
   "metadata": {},
   "outputs": [
    {
     "name": "stdout",
     "output_type": "stream",
     "text": [
      "Hello World\n",
      "Result: 4\n"
     ]
    }
   ],
   "source": [
    "def hello(func):\n",
    "    def wrapper(x):\n",
    "        print(\"Hello World\")\n",
    "        result = func(x)\n",
    "        return result\n",
    "    return wrapper\n",
    "\n",
    "@hello\n",
    "def square(x):\n",
    "    return x * x\n",
    "\n",
    "result = square(2)\n",
    "print(\"Result:\", result)\n"
   ]
  },
  {
   "cell_type": "markdown",
   "metadata": {},
   "source": [
    "8\\. **The Fibonacci sequence (part 2)**\n",
    "\n",
    "Calculate the first 20 numbers of the [Fibonacci sequence](https://en.wikipedia.org/wiki/Fibonacci_number) using a recursive function."
   ]
  },
  {
   "cell_type": "code",
   "execution_count": 5,
   "metadata": {},
   "outputs": [
    {
     "name": "stdout",
     "output_type": "stream",
     "text": [
      "Fib(0) = 0\n",
      "Fib(1) = 1\n",
      "Fib(2) = 1\n",
      "Fib(3) = 2\n",
      "Fib(4) = 3\n",
      "Fib(5) = 5\n",
      "Fib(6) = 8\n",
      "Fib(7) = 13\n",
      "Fib(8) = 21\n",
      "Fib(9) = 34\n",
      "Fib(10) = 55\n",
      "Fib(11) = 89\n",
      "Fib(12) = 144\n",
      "Fib(13) = 233\n",
      "Fib(14) = 377\n",
      "Fib(15) = 610\n",
      "Fib(16) = 987\n",
      "Fib(17) = 1597\n",
      "Fib(18) = 2584\n",
      "Fib(19) = 4181\n"
     ]
    }
   ],
   "source": [
    " \n",
    "def fib(num):\n",
    "    if num == 0:\n",
    "        return 0\n",
    "    elif num == 1:\n",
    "        return 1\n",
    "    else:\n",
    "        return fib(num - 1) + fib(num - 2)\n",
    "\n",
    "for i in range(20):\n",
    "    result = fib(i)\n",
    "    print(f\"Fib({i}) = {result}\")\n",
    "\n",
    "    "
   ]
  },
  {
   "cell_type": "markdown",
   "metadata": {},
   "source": [
    "9\\. **The Fibonacci sequence (part 3)**\n",
    "\n",
    "Run both the Fibonacci recursive function from the previous exercise, and the Fibonacci function from 01ex that use only `for` and `while` loops.\n",
    "\n",
    "Measure the execution code of the two functions with `timeit` ([link to the doc](https://docs.python.org/3/library/timeit.html)), for example:\n",
    "\n",
    "`%timeit loopFibonacci(20)`\n",
    "\n",
    "`%timeit recursiveFibonacci(20)`\n",
    "\n",
    "which one is the most efficient implementation? By how much?"
   ]
  },
  {
   "cell_type": "code",
   "execution_count": 6,
   "metadata": {},
   "outputs": [
    {
     "name": "stdout",
     "output_type": "stream",
     "text": [
      "The fibonacci of  0 is 0\n",
      "The fibonacci of  1 is 1\n",
      "The fibonacci of  2 is 1\n",
      "The fibonacci of  3 is 2\n",
      "The fibonacci of  4 is 3\n",
      "The fibonacci of  5 is 5\n",
      "The fibonacci of  6 is 8\n",
      "The fibonacci of  7 is 13\n",
      "The fibonacci of  8 is 21\n",
      "The fibonacci of  9 is 34\n",
      "The fibonacci of  10 is 55\n",
      "The fibonacci of  11 is 89\n",
      "The fibonacci of  12 is 144\n",
      "The fibonacci of  13 is 233\n",
      "The fibonacci of  14 is 377\n",
      "The fibonacci of  15 is 610\n",
      "The fibonacci of  16 is 987\n",
      "The fibonacci of  17 is 1597\n",
      "The fibonacci of  18 is 2584\n",
      "The fibonacci of  19 is 4181\n"
     ]
    }
   ],
   "source": [
    "#9\\. **The Fibonacci sequence (part 3)**\n",
    "# Recursive Fibonacci function\n",
    "def recursiveFibonacci(n):\n",
    "    if n <= 0:\n",
    "        return 0\n",
    "    elif n == 1:\n",
    "        return 1\n",
    "    else:\n",
    "        return recursiveFibonacci(n - 1) + recursiveFibonacci(n - 2)\n",
    "    \n",
    "for num in range(20):\n",
    "    print(\"The fibonacci of \", num, \"is\",recursiveFibonacci(num))\n",
    "\n"
   ]
  },
  {
   "cell_type": "code",
   "execution_count": 2,
   "metadata": {},
   "outputs": [
    {
     "name": "stdout",
     "output_type": "stream",
     "text": [
      "Recursive Fibonacci Execution Time: 42.988236 seconds\n"
     ]
    }
   ],
   "source": [
    "import timeit\n",
    "\n",
    "n = 20\n",
    "\n",
    "# Measure the execution time for the recursive Fibonacci function\n",
    "recursive_time = timeit.timeit('recursiveFibonacci(n)', globals=globals(), number=10000)\n",
    "\n",
    "print(f\"Recursive Fibonacci Execution Time: {recursive_time:.6f} seconds\")\n",
    " \n",
    "    "
   ]
  },
  {
   "cell_type": "markdown",
   "metadata": {},
   "source": [
    "10\\. **Class definition**\n",
    "\n",
    "Define a class `polygon`. The constructor has to take a tuple as input that contains the length of each side. The (unordered) input list does not have to have a fixed length, but should contain at least 3 items.\n",
    "\n",
    "- Create appropriate methods to get and set the length of each side\n",
    "\n",
    "- Create a method `perimeter()` that returns the perimeter of the polygon\n",
    "\n",
    "- Create a method `getOrderedSides(increasing = True)` that returns a tuple containing the length of the sides arranged in increasing or decreasing order, depending on the argument of the method\n",
    "\n",
    "Test the class by creating an instance and calling the `perimeter()` and `getOrderedSides(increasing = True)` methods."
   ]
  },
  {
   "cell_type": "code",
   "execution_count": null,
   "metadata": {},
   "outputs": [],
   "source": []
  },
  {
   "cell_type": "code",
   "execution_count": null,
   "metadata": {},
   "outputs": [],
   "source": [
    "class Polygon:\n",
    "    def __init__(self,nbrsides):\n",
    "        self.nbr_sides = nbrsides"
   ]
  },
  {
   "cell_type": "markdown",
   "metadata": {},
   "source": [
    "11\\. **Class inheritance**\n",
    "\n",
    "Define a class `rectangle` that inherits from `polygon`. Modify the constructor, if necessary, to make sure that the input data is consistent with the geometrical properties of a rectangle.\n",
    "\n",
    "- Create a method `area()` that returns the area of the rectangle.\n",
    "\n",
    "Test the `rectangle` class by creating an instance and passing an appropriate input to the constructor."
   ]
  },
  {
   "cell_type": "code",
   "execution_count": null,
   "metadata": {},
   "outputs": [],
   "source": []
  }
 ],
 "metadata": {
  "kernelspec": {
   "display_name": "Python 3 (ipykernel)",
   "language": "python",
   "name": "python3"
  },
  "language_info": {
   "codemirror_mode": {
    "name": "ipython",
    "version": 3
   },
   "file_extension": ".py",
   "mimetype": "text/x-python",
   "name": "python",
   "nbconvert_exporter": "python",
   "pygments_lexer": "ipython3",
   "version": "3.10.9"
  }
 },
 "nbformat": 4,
 "nbformat_minor": 4
}
